{
 "cells": [
  {
   "cell_type": "markdown",
   "metadata": {},
   "source": [
    "# Exploratory data analysis with Bach's chorales\n",
    "## (Why being an alto sucks, and why I wouldn't trade it for the world.)\n",
    "\n",
    "This music analysis project uses [the music21 package](http://web.mit.edu/music21/). One on my main motivations was to check whether, as popular choir wisdom has it, \"altos always sing Gs\", and why that is. I studied the complete Bach chorales from a statistical point of view to understand each voice's role in the harmony, why some parts always seemed more varied than others, and whether altos were truly irredeemable.\n",
    "\n",
    "(Disclaimer: I'm not a musicologist. If you are one, and disagree with my interpretation or have insight you want to share, please get in touch.)\n",
    "\n",
    "\n",
    "### Part I: exploratory analysis\n",
    "<ul>\n",
    "    <li><a href='#data'> Fetching the data </a> : a quick explanation of what data I chose and how</li>\n",
    "    <li><a href=\"#global\">Global analysis</a>: what are Bach's favorite pitches and keys?</li>\n",
    "    <li><a href=\"#by_part\">Analysis per voice</a>: which voices vary the least? the most? how different are they, statistically?</li>    \n",
    "</ul>\n",
    "\n",
    "\n",
    "Note: following `music21`'s standard, I write flat notes with a - instead of a b, to avoid confusion. Sharp notes are still denoted with a #."
   ]
  },
  {
   "cell_type": "markdown",
   "metadata": {},
   "source": [
    "## Imports and helper functions"
   ]
  },
  {
   "cell_type": "code",
   "execution_count": 1,
   "metadata": {},
   "outputs": [],
   "source": [
    "%matplotlib widget"
   ]
  },
  {
   "cell_type": "code",
   "execution_count": 2,
   "metadata": {},
   "outputs": [],
   "source": [
    "import music21 as msc\n",
    "import numpy as np\n",
    "import pandas as pd\n",
    "import matplotlib.pyplot as plt\n",
    "import seaborn as sns\n",
    "import time\n",
    "\n",
    "sns.set_theme(style='darkgrid')"
   ]
  },
  {
   "cell_type": "code",
   "execution_count": 3,
   "metadata": {},
   "outputs": [],
   "source": [
    "def play_midi(stream):\n",
    "    msc.midi.realtime.StreamPlayer(stream).play()"
   ]
  },
  {
   "cell_type": "markdown",
   "metadata": {},
   "source": [
    "---\n",
    "<div id='data'></div>\n",
    "    \n",
    "## Fetching the data\n",
    "`music21` is shipped with a corpus containing all Bach chorales. I parse each of these in turn and store the most relevant information in a dataframe. \n",
    "The different pitches are stored under three forms: `pitch_class` which is the note \"number\" (0 for C, 1 for C#... all the way to 11), `pitch_name` which has the full name of the pitch, including the octave, and `pitch_midi` which is the midi code corresponding to a note (an integer between 0 and 127, indicating the height of the note where middle C is 60, C#/D- is 61 etc). While the `pitch_name` distinguishes between, say, an F# and a G-, the other two values do not.\n",
    "\n",
    "As a first approximation, I am dropping rhythm/duration information and only focusing on pitch.\n",
    "\n",
    "I'm also keeping track of the key, and of course of the piece name, and parts. \n",
    "\n",
    "\n",
    "\n",
    "Here's the code:"
   ]
  },
  {
   "cell_type": "markdown",
   "metadata": {},
   "source": [
    "```python\n",
    "voices = ['Soprano', 'Alto', 'Tenor', 'Bass']\n",
    "df = pd.DataFrame(columns=['piece', 'key', 'part', 'pitch_class', 'pitch_name', 'pitch_midi'])\n",
    "\n",
    "all_bach = msc.corpus.search('bach', 'composer')\n",
    "i=0\n",
    "tic = time.time()\n",
    "\n",
    "for piece in all_bach:\n",
    "    score = msc.corpus.parse(piece)\n",
    "\n",
    "    if all([part.partName in voices for part in score.getElementsByClass('Part')]):\n",
    "        i += 1\n",
    "        if i % 10 == 0:\n",
    "            print(f\"processed {i}\")\n",
    "        \n",
    "        for part in score.getElementsByClass('Part'):\n",
    "            title = score.metadata.title\n",
    "            key = score.analyze('key')\n",
    "            part_name = part.partName\n",
    "            df_temp = pd.DataFrame(([[title, key, part_name, note.pitch.pitchClass, note.pitch.nameWithOctave, note.pitch.midi] \n",
    "                                     for note in part.recurse().getElementsByClass('Note')]),\n",
    "                                   columns=['piece', 'key', 'part', 'pitch_class', 'pitch_name', 'pitch_midi'])\n",
    "            df = df.append(df_temp, ignore_index=True)\n",
    "\n",
    "print(f'processed {i} scores in {time.time() - tic} seconds.')\n",
    "\n",
    "df.to_csv('bach.csv', index=False)\n",
    "```"
   ]
  },
  {
   "cell_type": "markdown",
   "metadata": {},
   "source": [
    "I want to focus on pitch distribution across voices; there are two (imo) interesting points of view here:\n",
    " - in terms of 'absolute' pitches, how are they distributed, and which parts show the most/least variation. One would expect that different voices have different average pitches and that the standard deviation is roughly the same for everybody (OK, that last one is _clearly_ wishful thinking, we all know altos will have negligible standard deviation).\n",
    " - in terms of 'relative', once everything is transposed to the same key"
   ]
  },
  {
   "cell_type": "code",
   "execution_count": 4,
   "metadata": {},
   "outputs": [],
   "source": [
    "df = pd.read_csv('bach.csv')"
   ]
  },
  {
   "cell_type": "markdown",
   "metadata": {},
   "source": [
    "---\n",
    "<div id='global'></div>\n",
    "\n",
    "## Scales and pitches\n",
    "What's Bach's favorite pitch? Throughout, I use the `midi` pitch representation: it is numerical (so we can compute averages and variances) and gives octave information. As an indication, $60$ is a mid C (C4), $61$ is C#4 etc. If we're only looking at the pitch class (the \"name of the note\"), then 0 corresponds to C, 1 to C#/D- etc."
   ]
  },
  {
   "cell_type": "code",
   "execution_count": 5,
   "metadata": {},
   "outputs": [
    {
     "name": "stdout",
     "output_type": "stream",
     "text": [
      "Distinct pitches: \t45\n",
      "Lowest pitch: \t\tC2\n",
      "Highest pitch: \t\tA5\n",
      "Most frequent pitch: \tD4\n",
      "Average pitch: \t\tC#4\n"
     ]
    }
   ],
   "source": [
    "unique = len(df['pitch_midi'].unique())\n",
    "top_pitch = msc.pitch.Pitch(midi=df['pitch_midi'].mode()[0])\n",
    "avg_pitch = msc.pitch.Pitch(midi=np.round(df['pitch_midi'].mean()))\n",
    "min_pitch = msc.pitch.Pitch(midi=df['pitch_midi'].min())\n",
    "max_pitch = msc.pitch.Pitch(midi=df['pitch_midi'].max())\n",
    "\n",
    "print(f\"Distinct pitches: \\t{unique}\"\n",
    "      f\"\\nLowest pitch: \\t\\t{min_pitch}\"\n",
    "      f\"\\nHighest pitch: \\t\\t{max_pitch}\"\n",
    "      f\"\\nMost frequent pitch: \\t{top_pitch}\"\n",
    "      f\"\\nAverage pitch: \\t\\t{avg_pitch}\")"
   ]
  },
  {
   "cell_type": "markdown",
   "metadata": {},
   "source": [
    "The chorales are spread over 45 pitches; the most frequent one is 62, that is, D4, and the average pitch is a C#4."
   ]
  },
  {
   "cell_type": "code",
   "execution_count": 6,
   "metadata": {},
   "outputs": [
    {
     "data": {
      "application/vnd.jupyter.widget-view+json": {
       "model_id": "059f4e06c1694ae0b1d3e45c1a9d077a",
       "version_major": 2,
       "version_minor": 0
      },
      "text/plain": [
       "Canvas(toolbar=Toolbar(toolitems=[('Home', 'Reset original view', 'home', 'home'), ('Back', 'Back to previous …"
      ]
     },
     "metadata": {},
     "output_type": "display_data"
    }
   ],
   "source": [
    "fig, axes = plt.subplots(2, 1)\n",
    "\n",
    "ax1, ax2 = axes.flat\n",
    "\n",
    "sns.histplot(data=df['pitch_midi'], ax=ax1, discrete=True, stat='density')\n",
    "ax1.set(title='Overall pitch frequency (with octaves)', xlabel='');\n",
    "\n",
    "sns.histplot(data=df['pitch_class'], ax=ax2, discrete=True, stat='density')\n",
    "ax2.set(title='Overall pitch frequency (no octaves)', xticks=range(12), xlabel='');\n",
    "\n",
    "fig.tight_layout()"
   ]
  },
  {
   "cell_type": "markdown",
   "metadata": {},
   "source": [
    "Looking only at pitch class confirms D is Bach's favorite pitch, followed by A and G. His least favorites are G#/Ab, D#/Eb and C#/Db. \n",
    "\n",
    "Let's look at keys to see what's up. We'll start by a histogram of key frequencies; to set things up I'm extracting some data from the key: relative scale, number of sharps (this is purely for graphing purposes). I'm putting the code in comments since I saved the corresponding dataframe as a .csv."
   ]
  },
  {
   "cell_type": "markdown",
   "metadata": {},
   "source": [
    "```python\n",
    "df_pieces = df[['piece', 'key']].drop_duplicates()\n",
    "df_pieces['key'] = df_pieces['key'].apply(lambda x: x.split(' ')[0])\n",
    "df_pieces['major'] = df_pieces['key'].apply(lambda x: int(x[0].isupper()))\n",
    "\n",
    "df_pieces['sharps'] = df_pieces['key'].apply(lambda x: msc.key.Key(x).sharps)\n",
    "\n",
    "df_pieces.to_csv('bach_pieces.csv', index=False)\n",
    "```"
   ]
  },
  {
   "cell_type": "code",
   "execution_count": 7,
   "metadata": {},
   "outputs": [],
   "source": [
    "df_pieces = pd.read_csv('bach_pieces.csv')"
   ]
  },
  {
   "cell_type": "code",
   "execution_count": 8,
   "metadata": {},
   "outputs": [
    {
     "data": {
      "application/vnd.jupyter.widget-view+json": {
       "model_id": "68a9ce14a1bb40d1bd47fd8672ba81ff",
       "version_major": 2,
       "version_minor": 0
      },
      "text/plain": [
       "Canvas(toolbar=Toolbar(toolitems=[('Home', 'Reset original view', 'home', 'home'), ('Back', 'Back to previous …"
      ]
     },
     "metadata": {},
     "output_type": "display_data"
    }
   ],
   "source": [
    "fig, ax = plt.subplots()\n",
    "\n",
    "sns.countplot(x = 'sharps', data=df_pieces, hue='major',  hue_order=[1,0])\n",
    "ax.set(xlabel='key', xticklabels=['D-/b-', 'A-/f', 'E-/c', 'B-/g', 'F/d', 'C/a', 'G/e', 'D/b', 'A/f#', 'E/c#'])\n",
    "ax.legend(['major', 'minor']);"
   ]
  },
  {
   "cell_type": "markdown",
   "metadata": {},
   "source": [
    "Note that G (minor and major) and A (minor) are pretty high up Bach's favorite key list, which explains why he'd write so many D's, G's and A's. Mystery solved. \n",
    "\n",
    "What's up with D# then? Let's look at a list of pitches in each scale, and see in how many cases Bach's least favorite pitch is a part of the scale."
   ]
  },
  {
   "cell_type": "code",
   "execution_count": 9,
   "metadata": {},
   "outputs": [
    {
     "name": "stdout",
     "output_type": "stream",
     "text": [
      "Scales with D: \t\t97%\n",
      "Scales with D#/E-: \t28%\n",
      "\n",
      "Most frequent degree for D# (in %): \n",
      "6.0    45.555556\n",
      "4.0    26.666667\n",
      "7.0    10.000000\n",
      "1.0     8.888889\n",
      "3.0     8.888889\n",
      "Name: D#_degree, dtype: float64\n",
      "\n",
      "Most frequent degree for D (in %): \n",
      "5.0    26.213592\n",
      "4.0    22.977346\n",
      "3.0    15.210356\n",
      "1.0    13.592233\n",
      "6.0     8.090615\n",
      "7.0     7.119741\n",
      "2.0     6.796117\n",
      "Name: D_degree, dtype: float64\n"
     ]
    }
   ],
   "source": [
    "df_pieces['D#_degree'] = df_pieces['key'].apply(lambda x: msc.key.Key(x).getScaleDegreeFromPitch('e-', comparisonAttribute='pitchClass'))\n",
    "df_pieces['D_degree'] = df_pieces['key'].apply(lambda x: msc.key.Key(x).getScaleDegreeFromPitch('d', comparisonAttribute='pitchClass'))\n",
    "\n",
    "\n",
    "print(f\"Scales with D: \\t\\t{df_pieces['D_degree'].count() / len(df_pieces) * 100:.0f}%\"\n",
    "      f\"\\nScales with D#/E-: \\t{df_pieces['D#_degree'].count() / len(df_pieces) * 100:.0f}%\")\n",
    "\n",
    "print(f\"\\nMost frequent degree for D# (in %): \\n{df_pieces['D#_degree'].value_counts(normalize=True) * 100}\\n\"\n",
    "     f\"\\nMost frequent degree for D (in %): \\n{df_pieces['D_degree'].value_counts(normalize=True) * 100}\")"
   ]
  },
  {
   "cell_type": "markdown",
   "metadata": {},
   "source": [
    "D is the dominant or tonic in about 40% of the scales that use it (and those represent 97% of the total). For comparison, less than a third of the chorales are written in a scale that has a D# or an E-, and it's never the dominant. And since I know nothing about music, let's double check my intuition about some degrees being less used than others. Again, putting the code in comments since this is already part of the csv file."
   ]
  },
  {
   "cell_type": "markdown",
   "metadata": {},
   "source": [
    "```python\n",
    "df['key'] = df['key'].apply(lambda x: x.split(' ')[0])\n",
    "df['degree'] = 0\n",
    "for idx, note in df.iterrows():\n",
    "    df.loc[idx, 'degree'] = msc.key.Key(note['key']).getScaleDegreeFromPitch(note['pitch_name'])\n",
    "    \n",
    "df.to_csv('bach.csv', index=False)\n",
    "```"
   ]
  },
  {
   "cell_type": "code",
   "execution_count": 11,
   "metadata": {},
   "outputs": [
    {
     "data": {
      "application/vnd.jupyter.widget-view+json": {
       "model_id": "af5f875c6f29414c8f9ef35139741927",
       "version_major": 2,
       "version_minor": 0
      },
      "text/plain": [
       "Canvas(toolbar=Toolbar(toolitems=[('Home', 'Reset original view', 'home', 'home'), ('Back', 'Back to previous …"
      ]
     },
     "metadata": {},
     "output_type": "display_data"
    }
   ],
   "source": [
    "fig, ax = plt.subplots()\n",
    "\n",
    "sns.countplot(x='degree', data=df)\n",
    "ax.set(title='Frequency of different scale degrees', xlabel='scale degree');"
   ]
  },
  {
   "cell_type": "markdown",
   "metadata": {},
   "source": [
    "As per above, the pitch D#/E- appears the most frequently (in total, 80% of the time) in positions VI, IV or VII, which are the degrees that appear the least frequently. By contrast, D appears in positions V, I and III in more than 54% of the cases. \n",
    "\n",
    "In summary, not only does D more frequently belong to the scale that is used to write a chorale, it also occupies a stronger position in that scale."
   ]
  },
  {
   "cell_type": "markdown",
   "metadata": {},
   "source": [
    "---\n",
    "<div id=\"by_part\"></div>\n",
    "\n",
    "## Analysis by parts.\n",
    "\n",
    "So, does being an alto actually suck? Let's look at pitch distribution for each part. First, here are some figures:"
   ]
  },
  {
   "cell_type": "code",
   "execution_count": 14,
   "metadata": {},
   "outputs": [],
   "source": [
    "soprano, alto, tenor, bass = [df.loc[df['part'] == part] for part in parts]"
   ]
  },
  {
   "cell_type": "code",
   "execution_count": 15,
   "metadata": {},
   "outputs": [
    {
     "name": "stdout",
     "output_type": "stream",
     "text": [
      "\n",
      "SOPRANO:\n",
      "\n",
      "Distinct pitches: \t22\n",
      "Lowest pitch: \t\tA3\n",
      "Highest pitch: \t\tA5\n",
      "Most frequent pitch: \tA4\n",
      "Average pitch: \t\tB-4\n",
      "\n",
      "ALTO:\n",
      "\n",
      "Distinct pitches: \t22\n",
      "Lowest pitch: \t\tF3\n",
      "Highest pitch: \t\tD5\n",
      "Most frequent pitch: \tE4\n",
      "Average pitch: \t\tF4\n",
      "\n",
      "TENOR:\n",
      "\n",
      "Distinct pitches: \t22\n",
      "Lowest pitch: \t\tC3\n",
      "Highest pitch: \t\tA4\n",
      "Most frequent pitch: \tA3\n",
      "Average pitch: \t\tB3\n",
      "\n",
      "BASS:\n",
      "\n",
      "Distinct pitches: \t29\n",
      "Lowest pitch: \t\tC2\n",
      "Highest pitch: \t\tE4\n",
      "Most frequent pitch: \tD3\n",
      "Average pitch: \t\tE-3\n"
     ]
    }
   ],
   "source": [
    "for part in parts:\n",
    "\n",
    "    df_part = df.loc[df['part'] == part]\n",
    "    unique = len(df_part['pitch_midi'].unique())\n",
    "    top_pitch = msc.pitch.Pitch(midi=df_part['pitch_midi'].mode()[0])\n",
    "    avg_pitch = msc.pitch.Pitch(midi=np.round(df_part['pitch_midi'].mean()))\n",
    "    min_pitch = msc.pitch.Pitch(midi=df_part['pitch_midi'].min())\n",
    "    max_pitch = msc.pitch.Pitch(midi=df_part['pitch_midi'].max())\n",
    "\n",
    "    print(f\"\\n{part.upper()}:\\n\"\n",
    "          f\"\\nDistinct pitches: \\t{unique}\"\n",
    "          f\"\\nLowest pitch: \\t\\t{min_pitch}\"\n",
    "          f\"\\nHighest pitch: \\t\\t{max_pitch}\"\n",
    "          f\"\\nMost frequent pitch: \\t{top_pitch}\"\n",
    "          f\"\\nAverage pitch: \\t\\t{avg_pitch}\")"
   ]
  },
  {
   "cell_type": "markdown",
   "metadata": {},
   "source": [
    "Both middle voices (Alto and Tenor) display a smaller range (one octave and a sixth), as they generally don't need to cover the extremes. Sopranos cover up to a fifth above the highest alto note, while basses can go _a full friggin octave_ below the lowest tenor pitch.\n",
    "\n",
    "Note: The fact that altos always sing G's is a lie. They always sing E's."
   ]
  },
  {
   "cell_type": "code",
   "execution_count": 16,
   "metadata": {},
   "outputs": [
    {
     "data": {
      "application/vnd.jupyter.widget-view+json": {
       "model_id": "e643abf2421a4265953930b21e7daa02",
       "version_major": 2,
       "version_minor": 0
      },
      "text/plain": [
       "Canvas(toolbar=Toolbar(toolitems=[('Home', 'Reset original view', 'home', 'home'), ('Back', 'Back to previous …"
      ]
     },
     "metadata": {},
     "output_type": "display_data"
    }
   ],
   "source": [
    "parts=['Soprano', 'Alto', 'Tenor', 'Bass']\n",
    "fig, axes = plt.subplots(2, 2, sharey=True, sharex=True)\n",
    "\n",
    "for i in range(4):\n",
    "    ax = axes.flat[i]\n",
    "    sns.histplot(data=df.loc[df['part'] == parts[i]]['pitch_midi'], ax=ax, discrete=True, stat='density')\n",
    "    ax.set(title=parts[i], xlabel='pitches', ylabel='frequency')\n",
    "    \n",
    "fig.tight_layout()"
   ]
  },
  {
   "cell_type": "code",
   "execution_count": 17,
   "metadata": {},
   "outputs": [
    {
     "data": {
      "application/vnd.jupyter.widget-view+json": {
       "model_id": "bd8bd9fa7b2d4385aa95a4f192730e6d",
       "version_major": 2,
       "version_minor": 0
      },
      "text/plain": [
       "Canvas(toolbar=Toolbar(toolitems=[('Home', 'Reset original view', 'home', 'home'), ('Back', 'Back to previous …"
      ]
     },
     "metadata": {},
     "output_type": "display_data"
    }
   ],
   "source": [
    "parts=['Soprano', 'Alto', 'Tenor', 'Bass']\n",
    "fig, axes = plt.subplots(2, 2, sharey=True, sharex=True)\n",
    "\n",
    "for i in range(4):\n",
    "    ax = axes.flat[i]\n",
    "    sns.histplot(data=df.loc[df['part'] == parts[i]]['degree'], ax=ax, discrete=True, stat='density', alpha=0.8, zorder=1)\n",
    "    #sns.histplot(x='degree', data=df, alpha=1, ax=ax, stat='density', discrete=True, color='gray', zorder=0.6)\n",
    "    ax.set(title=parts[i], xlabel='degrees', ylabel='', \n",
    "           xticks=range(1,8), xticklabels=['I', 'II', 'III', 'IV', 'V', 'VI', 'VII'],\n",
    "           yticks=np.arange(0, 0.25, 0.05), yticklabels=[\"0\", \"5\", \"10\", \"15\", \"20\"])\n",
    "\n",
    "    \n",
    "plt.suptitle('Proportion of each degree of the scale (in %)')   \n",
    "fig.tight_layout()"
   ]
  },
  {
   "cell_type": "markdown",
   "metadata": {},
   "source": [
    "A few observations:\n",
    " - Soprano have a somewhat surprising (to me) graph, where notes are evenly distributed across degrees I, II, III and V. They also are the only ones who sing II's more than 15% of the time. I have no explanation for this so I might ask someone.\n",
    " - Altos and Basses have pretty similar-looking histograms, with lots of tonics and dominants. \n",
    " - Altos are the only ones to sing VIIs more than 10% of the time; if V7's sound good, it's thanks to altos.\n",
    " - The tenor graph looks very similar to the average distribution of degrees across a scale in any given Bach chorale (does that make tenor the canonical voice?)"
   ]
  },
  {
   "cell_type": "markdown",
   "metadata": {},
   "source": [
    "What about notes that are _not_ part of the scale? Alto end up singing around 37% of these foreign notes, and they make up 10% of alto's total singing time. In contrast, basses have 29% of them, tenors 24% and sopranos, just 10%."
   ]
  },
  {
   "cell_type": "code",
   "execution_count": 18,
   "metadata": {},
   "outputs": [
    {
     "name": "stdout",
     "output_type": "stream",
     "text": [
      "Proportion of foreign notes sang by each voice:\n",
      "Soprano: \t10%\n",
      "Alto: \t\t37%\n",
      "Tenor: \t\t24%\n",
      "Bass: \t\t29%\n",
      "\n",
      "Proportion of foreign notes in each part:\n",
      "Soprano: \t3%\n",
      "Alto: \t\t10%\n",
      "Tenor: \t\t6%\n",
      "Bass: \t\t8%\n"
     ]
    }
   ],
   "source": [
    "print(\"Proportion of foreign notes sang by each voice:\")\n",
    "for part in parts:\n",
    "    if part == 'Soprano':\n",
    "        print(f\"{part}: \\t{df.loc[df['degree'].isna()]['part'].value_counts(normalize=True)[part] * 100:.0f}%\")\n",
    "    else:\n",
    "        print(f\"{part}: \\t\\t{df.loc[df['degree'].isna()]['part'].value_counts(normalize=True)[part] * 100:.0f}%\")\n",
    "\n",
    "\n",
    "print(\"\\nProportion of foreign notes in each part:\")\n",
    "for part in parts:\n",
    "    df_part = df.loc[df['part'] == part]\n",
    "    prop = len(df_part.loc[df_part['degree'].isna()]) / len(df_part)\n",
    "    if part == 'Soprano':\n",
    "        print(f\"{part}: \\t{prop * 100:.0f}%\")\n",
    "    else:\n",
    "        print(f\"{part}: \\t\\t{prop * 100:.0f}%\")"
   ]
  },
  {
   "cell_type": "code",
   "execution_count": null,
   "metadata": {},
   "outputs": [],
   "source": []
  }
 ],
 "metadata": {
  "kernelspec": {
   "display_name": "Python 3",
   "language": "python",
   "name": "python3"
  },
  "language_info": {
   "codemirror_mode": {
    "name": "ipython",
    "version": 3
   },
   "file_extension": ".py",
   "mimetype": "text/x-python",
   "name": "python",
   "nbconvert_exporter": "python",
   "pygments_lexer": "ipython3",
   "version": "3.8.5"
  }
 },
 "nbformat": 4,
 "nbformat_minor": 4
}
